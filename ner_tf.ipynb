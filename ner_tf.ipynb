{
  "nbformat": 4,
  "nbformat_minor": 0,
  "metadata": {
    "colab": {
      "provenance": []
    },
    "kernelspec": {
      "name": "python3",
      "display_name": "Python 3"
    },
    "language_info": {
      "name": "python"
    }
  },
  "cells": [
    {
      "cell_type": "code",
      "execution_count": 1,
      "metadata": {
        "id": "XD-oyYB3ZjiA"
      },
      "outputs": [],
      "source": [
        "import transformers\n",
        "from transformers import pipeline"
      ]
    },
    {
      "cell_type": "code",
      "source": [
        "print(transformers.__version__)"
      ],
      "metadata": {
        "colab": {
          "base_uri": "https://localhost:8080/"
        },
        "id": "448BNJepZkJ9",
        "outputId": "8321fbc2-3b5f-4b1b-8ccf-4ef0796ab1d1"
      },
      "execution_count": 2,
      "outputs": [
        {
          "output_type": "stream",
          "name": "stdout",
          "text": [
            "4.44.2\n"
          ]
        }
      ]
    },
    {
      "cell_type": "code",
      "source": [
        "pipe = pipeline('ner', model='dbmdz/bert-large-cased-finetuned-conll03-english')"
      ],
      "metadata": {
        "colab": {
          "base_uri": "https://localhost:8080/"
        },
        "id": "0tccwqetb93P",
        "outputId": "3ca28eac-541d-4fb4-9d42-81cbc55aeedd"
      },
      "execution_count": 11,
      "outputs": [
        {
          "output_type": "stream",
          "name": "stderr",
          "text": [
            "Some weights of the model checkpoint at dbmdz/bert-large-cased-finetuned-conll03-english were not used when initializing BertForTokenClassification: ['bert.pooler.dense.bias', 'bert.pooler.dense.weight']\n",
            "- This IS expected if you are initializing BertForTokenClassification from the checkpoint of a model trained on another task or with another architecture (e.g. initializing a BertForSequenceClassification model from a BertForPreTraining model).\n",
            "- This IS NOT expected if you are initializing BertForTokenClassification from the checkpoint of a model that you expect to be exactly identical (initializing a BertForSequenceClassification model from a BertForSequenceClassification model).\n"
          ]
        }
      ]
    },
    {
      "cell_type": "code",
      "source": [
        "result = pipe(\"Apple Inc. is planning to open a new store in San Francisco next year.\")"
      ],
      "metadata": {
        "id": "1jzkxDhobJVy"
      },
      "execution_count": 14,
      "outputs": []
    },
    {
      "cell_type": "code",
      "source": [
        "result"
      ],
      "metadata": {
        "colab": {
          "base_uri": "https://localhost:8080/"
        },
        "id": "VJpsXH6EbO8z",
        "outputId": "4e1d5e22-9942-4993-f874-640794b2915b"
      },
      "execution_count": 15,
      "outputs": [
        {
          "output_type": "execute_result",
          "data": {
            "text/plain": [
              "[{'entity': 'I-ORG',\n",
              "  'score': 0.99973696,\n",
              "  'index': 1,\n",
              "  'word': 'Apple',\n",
              "  'start': 0,\n",
              "  'end': 5},\n",
              " {'entity': 'I-ORG',\n",
              "  'score': 0.99946636,\n",
              "  'index': 2,\n",
              "  'word': 'Inc',\n",
              "  'start': 6,\n",
              "  'end': 9},\n",
              " {'entity': 'I-LOC',\n",
              "  'score': 0.9995479,\n",
              "  'index': 12,\n",
              "  'word': 'San',\n",
              "  'start': 46,\n",
              "  'end': 49},\n",
              " {'entity': 'I-LOC',\n",
              "  'score': 0.99950767,\n",
              "  'index': 13,\n",
              "  'word': 'Francisco',\n",
              "  'start': 50,\n",
              "  'end': 59}]"
            ]
          },
          "metadata": {},
          "execution_count": 15
        }
      ]
    },
    {
      "cell_type": "code",
      "source": [],
      "metadata": {
        "id": "iPwU__EgcrFj"
      },
      "execution_count": null,
      "outputs": []
    }
  ]
}